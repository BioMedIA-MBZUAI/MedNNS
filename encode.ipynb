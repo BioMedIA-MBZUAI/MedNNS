{
 "cells": [
  {
   "cell_type": "code",
   "execution_count": 1,
   "id": "b9e27909",
   "metadata": {},
   "outputs": [
    {
     "name": "stdout",
     "output_type": "stream",
     "text": [
      "{'BreastMNIST': './work_dir/Supernets/BreastMNIST/super_net_complete_with_sandwich.pth', 'BloodMNIST': './work_dir/Supernets/BloodMNIST/super_net_complete_with_sandwich.pth', 'PathMNIST': './work_dir/Supernets/PathMNIST/super_net_complete_with_sandwich.pth', 'OrganAMNIST': './work_dir/Supernets/OrganAMNIST/super_net_complete_with_sandwich.pth', 'OrganCMNIST': './work_dir/Supernets/OrganCMNIST/super_net_complete_with_sandwich.pth', 'OrganSMNIST': './work_dir/Supernets/OrganSMNIST/super_net_complete_with_sandwich.pth', 'DermaMNIST': './work_dir/Supernets/DermaMNIST/super_net_complete_with_sandwich.pth', 'OCTMNIST': './work_dir/Supernets/OCTMNIST/super_net_complete_with_sandwich.pth', 'PneumoniaMNIST': './work_dir/Supernets/PneumoniaMNIST/super_net_complete_with_sandwich.pth', 'TissueMNIST': './work_dir/Supernets/TissueMNIST/super_net_complete_with_sandwich.pth'}\n"
     ]
    }
   ],
   "source": [
    "from meta_space_builder import model_encoder_main, DATA_CLASS_MAPPING, DATA_PATH_MAPPING, get_dataset_encodings\n",
    "import pandas as pd\n",
    "import os\n",
    "import numpy as np"
   ]
  },
  {
   "cell_type": "code",
   "execution_count": null,
   "id": "1951f965",
   "metadata": {},
   "outputs": [
    {
     "name": "stdout",
     "output_type": "stream",
     "text": [
      "Encoding dataset: BreastMNIST\n",
      "Evaluating subnets for dataset: BreastMNIST\n",
      "Using downloaded and verified file: /home/lotfimecharbat/.medmnist/breastmnist.npz\n",
      "Using downloaded and verified file: /home/lotfimecharbat/.medmnist/breastmnist.npz\n"
     ]
    },
    {
     "name": "stderr",
     "output_type": "stream",
     "text": [
      "Using cache found in /home/lotfimecharbat/.cache/torch/hub/mit-han-lab_once-for-all_master\n",
      "/home/lotfimecharbat/Projects/MedNNS/ofa/model_zoo.py:106: FutureWarning: You are using `torch.load` with `weights_only=False` (the current default value), which uses the default pickle module implicitly. It is possible to construct malicious pickle data which will execute arbitrary code during unpickling (See https://github.com/pytorch/pytorch/blob/main/SECURITY.md#untrusted-models for more details). In a future release, the default value for `weights_only` will be flipped to `True`. This limits the functions that could be executed during unpickling. Arbitrary objects will no longer be allowed to be loaded via this mode unless they are explicitly allowlisted by the user via `torch.serialization.add_safe_globals`. We recommend you start setting `weights_only=True` for any use case where you don't have full control of the loaded file. Please open an issue on GitHub for any issues related to this experimental feature.\n",
      "  init = torch.load(pt_path, map_location=\"cpu\")[\"state_dict\"]\n"
     ]
    },
    {
     "name": "stdout",
     "output_type": "stream",
     "text": [
      "Number of classes for BreastMNIST: 2\n"
     ]
    },
    {
     "name": "stderr",
     "output_type": "stream",
     "text": [
      "/home/lotfimecharbat/Projects/MedNNS/meta_space_builder/model_encoder.py:260: FutureWarning: You are using `torch.load` with `weights_only=False` (the current default value), which uses the default pickle module implicitly. It is possible to construct malicious pickle data which will execute arbitrary code during unpickling (See https://github.com/pytorch/pytorch/blob/main/SECURITY.md#untrusted-models for more details). In a future release, the default value for `weights_only` will be flipped to `True`. This limits the functions that could be executed during unpickling. Arbitrary objects will no longer be allowed to be loaded via this mode unless they are explicitly allowlisted by the user via `torch.serialization.add_safe_globals`. We recommend you start setting `weights_only=True` for any use case where you don't have full control of the loaded file. Please open an issue on GitHub for any issues related to this experimental feature.\n",
      "  supernet.load_state_dict(torch.load(model_path, map_location=device)['state_dict'])\n",
      "Evaluating sampled subnets: 100%|██████████| 10/10 [00:07<00:00,  1.36it/s]\n"
     ]
    },
    {
     "name": "stdout",
     "output_type": "stream",
     "text": [
      "Results saved to ./work_dir/Supernets/BreastMNIST/BreastMNIST_subnet_evaluation_results.pth\n",
      "Results summary for dataset: BreastMNIST\n",
      " Number of subnets evaluated:  10\n",
      " Validation Accuracy - Min: 80.7692, Max: 92.3077, Mean: 87.5641, Std: 3.4425\n",
      " Test Accuracy - Min: 68.5897, Max: 86.5385, Mean: 81.2821, Std: 4.7867\n",
      " Number of parameters - Min: 7695722, Max: 27731450, Mean: 15939880.40, Std: 5878017.99\n",
      "Encoding dataset: BloodMNIST\n",
      "Evaluating subnets for dataset: BloodMNIST\n",
      "Using downloaded and verified file: /home/lotfimecharbat/.medmnist/bloodmnist.npz\n",
      "Using downloaded and verified file: /home/lotfimecharbat/.medmnist/bloodmnist.npz\n"
     ]
    },
    {
     "name": "stderr",
     "output_type": "stream",
     "text": [
      "Using cache found in /home/lotfimecharbat/.cache/torch/hub/mit-han-lab_once-for-all_master\n"
     ]
    },
    {
     "name": "stdout",
     "output_type": "stream",
     "text": [
      "Number of classes for BloodMNIST: 8\n"
     ]
    },
    {
     "name": "stderr",
     "output_type": "stream",
     "text": [
      "Evaluating sampled subnets: 100%|██████████| 10/10 [00:46<00:00,  4.64s/it]\n"
     ]
    },
    {
     "name": "stdout",
     "output_type": "stream",
     "text": [
      "Results saved to ./work_dir/Supernets/BloodMNIST/BloodMNIST_subnet_evaluation_results.pth\n",
      "Results summary for dataset: BloodMNIST\n",
      " Number of subnets evaluated:  10\n",
      " Validation Accuracy - Min: 78.0958, Max: 95.3271, Mean: 90.9638, Std: 5.0358\n",
      " Test Accuracy - Min: 78.6027, Max: 94.2122, Mean: 90.3917, Std: 4.8139\n",
      " Number of parameters - Min: 7703696, Max: 27743744, Mean: 15949337.60, Std: 5879521.30\n",
      "Encoding dataset: PathMNIST\n",
      "Evaluating subnets for dataset: PathMNIST\n",
      "Using downloaded and verified file: /home/lotfimecharbat/.medmnist/pathmnist.npz\n",
      "Using downloaded and verified file: /home/lotfimecharbat/.medmnist/pathmnist.npz\n"
     ]
    },
    {
     "name": "stderr",
     "output_type": "stream",
     "text": [
      "Using cache found in /home/lotfimecharbat/.cache/torch/hub/mit-han-lab_once-for-all_master\n"
     ]
    },
    {
     "name": "stdout",
     "output_type": "stream",
     "text": [
      "Number of classes for PathMNIST: 9\n"
     ]
    },
    {
     "name": "stderr",
     "output_type": "stream",
     "text": [
      "Evaluating sampled subnets:  90%|█████████ | 9/10 [02:04<00:13, 13.33s/it]"
     ]
    }
   ],
   "source": [
    "# First evaluate a sample of fixed subnetworks for all datasets and save results\n",
    "seed=171\n",
    "num_samples=10\n",
    "device=\"cuda:3\"\n",
    "\n",
    "for dataset_name in DATA_CLASS_MAPPING.keys():\n",
    "    print(f\"Encoding dataset: {dataset_name}\")\n",
    "    results=model_encoder_main(dataset_name,device=device, num_samples=num_samples, seed=seed)\n",
    "\n",
    "    # results summary (min max mean std for both test and val)\n",
    "    \n",
    "    print(f\"Results summary for dataset: {dataset_name}\")\n",
    "    print(\" Number of subnets evaluated: \", len(results))\n",
    "    val_accuracies = [res['val_accuracy'] for res in results]\n",
    "    test_accuracies = [res['test_accuracy'] for res in results]\n",
    "    print(\" Validation Accuracy - Min: {:.4f}, Max: {:.4f}, Mean: {:.4f}, Std: {:.4f}\".format(\n",
    "        np.min(val_accuracies), np.max(val_accuracies), np.mean(val_accuracies), np.std(val_accuracies)))\n",
    "    print(\" Test Accuracy - Min: {:.4f}, Max: {:.4f}, Mean: {:.4f}, Std: {:.4f}\".format(\n",
    "        np.min(test_accuracies), np.max(test_accuracies), np.mean(test_accuracies), np.std(test_accuracies)))\n",
    "    \n",
    "    print(\" Number of parameters - Min: {}, Max: {}, Mean: {:.2f}, Std: {:.2f}\".format(\n",
    "        np.min([res['num_parameters'] for res in results]), \n",
    "        np.max([res['num_parameters'] for res in results]), \n",
    "        np.mean([res['num_parameters'] for res in results]), \n",
    "        np.std([res['num_parameters'] for res in results])\n",
    "    ))\n",
    "\n",
    "\n",
    "\n",
    "\n",
    "\n",
    "\n",
    "\n",
    "\n"
   ]
  },
  {
   "cell_type": "code",
   "execution_count": null,
   "id": "4c9119fd",
   "metadata": {},
   "outputs": [],
   "source": []
  }
 ],
 "metadata": {
  "kernelspec": {
   "display_name": "nns",
   "language": "python",
   "name": "python3"
  },
  "language_info": {
   "codemirror_mode": {
    "name": "ipython",
    "version": 3
   },
   "file_extension": ".py",
   "mimetype": "text/x-python",
   "name": "python",
   "nbconvert_exporter": "python",
   "pygments_lexer": "ipython3",
   "version": "3.9.12"
  }
 },
 "nbformat": 4,
 "nbformat_minor": 5
}

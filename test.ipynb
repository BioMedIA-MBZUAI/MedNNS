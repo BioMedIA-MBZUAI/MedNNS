{
 "cells": [
  {
   "cell_type": "code",
   "execution_count": 4,
   "id": "a28b6298",
   "metadata": {},
   "outputs": [
    {
     "name": "stdout",
     "output_type": "stream",
     "text": [
      "Using downloaded and verified file: /home/lotfimecharbat/.medmnist/dermamnist.npz\n",
      "Using downloaded and verified file: /home/lotfimecharbat/.medmnist/dermamnist.npz\n",
      "Using downloaded and verified file: /home/lotfimecharbat/.medmnist/dermamnist.npz\n"
     ]
    }
   ],
   "source": [
    "from dataload import get_dataloaders\n",
    "\n",
    "train,test,val,info = get_dataloaders('DermaMNIST',batch_size=32)"
   ]
  },
  {
   "cell_type": "code",
   "execution_count": null,
   "id": "a7913965",
   "metadata": {},
   "outputs": [
    {
     "name": "stderr",
     "output_type": "stream",
     "text": [
      "Using cache found in /home/lotfimecharbat/.cache/torch/hub/mit-han-lab_once-for-all_master\n",
      "Downloading: \"https://huggingface.co/han-cai/ofa/resolve/main/ofa_supernet_resnet50\" to .torch/ofa_nets/ofa_supernet_resnet50\n",
      "/home/lotfimecharbat/Projects/MedNNS/ofa/model_zoo.py:106: FutureWarning: You are using `torch.load` with `weights_only=False` (the current default value), which uses the default pickle module implicitly. It is possible to construct malicious pickle data which will execute arbitrary code during unpickling (See https://github.com/pytorch/pytorch/blob/main/SECURITY.md#untrusted-models for more details). In a future release, the default value for `weights_only` will be flipped to `True`. This limits the functions that could be executed during unpickling. Arbitrary objects will no longer be allowed to be loaded via this mode unless they are explicitly allowlisted by the user via `torch.serialization.add_safe_globals`. We recommend you start setting `weights_only=True` for any use case where you don't have full control of the loaded file. Please open an issue on GitHub for any issues related to this experimental feature.\n",
      "  init = torch.load(pt_path, map_location=\"cpu\")[\"state_dict\"]\n"
     ]
    }
   ],
   "source": [
    "from ofa.imagenet_classification.networks import ResNets\n",
    "from ofa.imagenet_classification.elastic_nn.modules.dynamic_layers import DynamicMBConvLayer, DynamicConvLayer, DynamicLinearLayer\n",
    "import torch\n",
    "\n",
    "super_net = torch.hub.load('mit-han-lab/once-for-all', 'ofa_supernet_resnet50', pretrained=True)\n",
    "n_classes = 40\n",
    "\n",
    "# Modify classifier for the dataset\n",
    "super_net.classifier = DynamicLinearLayer([super_net.classifier.linear.linear.in_features], n_classes)\n",
    "\n"
   ]
  },
  {
   "cell_type": "code",
   "execution_count": 7,
   "id": "89f416bb",
   "metadata": {},
   "outputs": [
    {
     "name": "stdout",
     "output_type": "stream",
     "text": [
      "torch.Size([1, 40])\n"
     ]
    }
   ],
   "source": [
    "# test supernet\n",
    "x = torch.randn(1, 3, 244, 244)\n",
    "logits = super_net(x)\n",
    "print(logits.shape)"
   ]
  },
  {
   "cell_type": "code",
   "execution_count": 31,
   "id": "6034716f",
   "metadata": {},
   "outputs": [
    {
     "name": "stdout",
     "output_type": "stream",
     "text": [
      "{'d': [2, 1, 0, 2, 1], 'e': [0.35, 0.35, 0.35, 0.35, 0.35, 0.35, 0.35, 0.35, 0.35, 0.35, 0.35, 0.35, 0.35, 0.35, 0.35, 0.35, 0.35, 0.35], 'w': [1, 0, 2, 2, 1, 1]}\n"
     ]
    },
    {
     "data": {
      "text/plain": [
       "24502520"
      ]
     },
     "execution_count": 31,
     "metadata": {},
     "output_type": "execute_result"
    }
   ],
   "source": [
    "import random\n",
    "# test subnetwork\n",
    "def sample_active_subnet(supernet, sample_config):\n",
    "    \"\"\"\n",
    "    Sample and set an active subnet configuration.\n",
    "    \"\"\"\n",
    "    # sample expand ratio\n",
    "    if isinstance(sample_config['e'][0], list):\n",
    "        expand_setting = [random.choice(sample_config['e'][i]) for i in range(len(sample_config['e']))]\n",
    "    else:\n",
    "        expand_setting = [random.choice(sample_config['e']) for _ in range(len(supernet.blocks))]\n",
    "\n",
    "    # sample depth\n",
    "    depth_setting = []\n",
    "    for stage_id in range(len(sample_config['d'])):\n",
    "        depth_list = sample_config['d'][stage_id]\n",
    "        depth_setting.append(random.choice(depth_list))\n",
    "\n",
    "    # sample width_mult\n",
    "    width_mult_index = [random.choice(sample_config['w'][i]) for i in range(len(sample_config['w']))]\n",
    "    width_mult_setting = [\n",
    "        list(range(len(supernet.input_stem[0].out_channel_list)))[width_mult_index[0]],\n",
    "        list(range(len(supernet.input_stem[2].out_channel_list)))[width_mult_index[1]],\n",
    "    ]\n",
    "    for stage_id, block_idx in enumerate(supernet.grouped_block_index):\n",
    "        stage_first_block = supernet.blocks[block_idx[0]]\n",
    "        width_mult_setting.append(\n",
    "            list(range(len(stage_first_block.out_channel_list)))[width_mult_index[stage_id+2]]\n",
    "        )\n",
    "\n",
    "    arch_config = {\"d\": depth_setting, \"e\": expand_setting, \"w\": width_mult_setting}\n",
    "    supernet.set_active_subnet(**arch_config)\n",
    "    return arch_config\n",
    "\n",
    "sample_config={\"d\": [[0, 1, 2], [0, 1, 2], [0, 1, 2], [0, 1, 2], [0, 1, 2]],\n",
    "        \"e\": [0.35],\n",
    "        \"w\": [[0, 1, 2], [0, 1, 2], [0, 1, 2], [0, 1, 2], [0, 1, 2], [0, 1, 2]]}\n",
    "\n",
    "arch_config = sample_active_subnet(super_net, sample_config)\n",
    "subnet=super_net.get_active_subnet()\n",
    "# calculate n params\n",
    "print(arch_config)\n",
    "sum(p.numel() for p in subnet.parameters())- sum(p.numel() for p in super_net.classifier.parameters())"
   ]
  }
 ],
 "metadata": {
  "kernelspec": {
   "display_name": "nns",
   "language": "python",
   "name": "python3"
  },
  "language_info": {
   "codemirror_mode": {
    "name": "ipython",
    "version": 3
   },
   "file_extension": ".py",
   "mimetype": "text/x-python",
   "name": "python",
   "nbconvert_exporter": "python",
   "pygments_lexer": "ipython3",
   "version": "3.9.12"
  }
 },
 "nbformat": 4,
 "nbformat_minor": 5
}
